{
 "cells": [
  {
   "cell_type": "code",
   "execution_count": 21,
   "metadata": {
    "colab": {},
    "colab_type": "code",
    "id": "TQDN5RiiKTJK"
   },
   "outputs": [],
   "source": [
    "import datetime\n",
    "import numpy as np \n",
    "import pandas as pd\n",
    "from sklearn.preprocessing import MinMaxScaler\n",
    "from sklearn.preprocessing import LabelEncoder\n",
    "from sklearn.model_selection import train_test_split\n",
    "from lightgbm import LGBMRegressor "
   ]
  },
  {
   "cell_type": "markdown",
   "metadata": {
    "colab_type": "text",
    "id": "m2QFJ-kC-kpV"
   },
   "source": [
    "Load Covid-19 data"
   ]
  },
  {
   "cell_type": "code",
   "execution_count": 22,
   "metadata": {
    "colab": {
     "base_uri": "https://localhost:8080/",
     "height": 68
    },
    "colab_type": "code",
    "id": "oorUepyFKaZB",
    "outputId": "acd77db4-f4cb-4a3a-cdf2-ca28d0310428"
   },
   "outputs": [
    {
     "data": {
      "text/plain": [
       "Index(['SNo', 'ObservationDate', 'Province/State', 'Country/Region',\n",
       "       'Last Update', 'Confirmed', 'Deaths', 'Recovered', 'Date'],\n",
       "      dtype='object')"
      ]
     },
     "execution_count": 22,
     "metadata": {},
     "output_type": "execute_result"
    }
   ],
   "source": [
    "df = pd.read_csv(\"data/covid_19_data.csv\")\n",
    "df['Date'] = pd.to_datetime(df['ObservationDate'])\n",
    "df.columns"
   ]
  },
  {
   "cell_type": "markdown",
   "metadata": {
    "colab_type": "text",
    "id": "mGuq2a_e-q3F"
   },
   "source": [
    "Data Cleaning - Keep only required columns"
   ]
  },
  {
   "cell_type": "code",
   "execution_count": 23,
   "metadata": {
    "colab": {},
    "colab_type": "code",
    "id": "9FykeNusKr7U"
   },
   "outputs": [],
   "source": [
    "cols = ['Date', 'Country/Region', 'Province/State', 'Confirmed', 'Recovered', 'Deaths']\n",
    "df = df[cols]\n",
    "df = df.reset_index(drop=True)"
   ]
  },
  {
   "cell_type": "markdown",
   "metadata": {
    "colab_type": "text",
    "id": "yEThfkto-w3g"
   },
   "source": [
    "Replace NA with 0 or by others"
   ]
  },
  {
   "cell_type": "code",
   "execution_count": 24,
   "metadata": {
    "colab": {},
    "colab_type": "code",
    "id": "671jz8IrK-Ov"
   },
   "outputs": [],
   "source": [
    "df['Province/State'] = df['Province/State'].fillna('Others')\n",
    "df['Confirmed'] = df['Confirmed'].fillna(0)\n",
    "df = df.sort_values(['Date', 'Country/Region','Province/State'])"
   ]
  },
  {
   "cell_type": "markdown",
   "metadata": {
    "colab_type": "text",
    "id": "RNpzBxrd_XTh"
   },
   "source": [
    "Aggregate confirmed cases by Date/Country/Region\n"
   ]
  },
  {
   "cell_type": "code",
   "execution_count": 25,
   "metadata": {
    "colab": {},
    "colab_type": "code",
    "id": "aijl1hobLJj4"
   },
   "outputs": [],
   "source": [
    "df = df.groupby(['Date','Country/Region','Province/State']).agg({'Confirmed':'sum'}).reset_index()\n",
    "df['Province/State'] = 'all'"
   ]
  },
  {
   "cell_type": "code",
   "execution_count": 26,
   "metadata": {
    "colab": {
     "base_uri": "https://localhost:8080/",
     "height": 221
    },
    "colab_type": "code",
    "id": "oNdITKPLLoqk",
    "outputId": "300951ac-4b20-4d57-c1dc-016f96c608fc"
   },
   "outputs": [
    {
     "data": {
      "text/plain": [
       "US                     15430\n",
       "Russia                 14066\n",
       "Mainland China          9263\n",
       "Japan                   8504\n",
       "India                   5967\n",
       "                       ...  \n",
       "Republic of Ireland        1\n",
       "Channel Islands            1\n",
       "St. Martin                 1\n",
       " Azerbaijan                1\n",
       "North Ireland              1\n",
       "Name: Country/Region, Length: 226, dtype: int64"
      ]
     },
     "execution_count": 26,
     "metadata": {},
     "output_type": "execute_result"
    }
   ],
   "source": [
    "df['Country/Region'].value_counts()"
   ]
  },
  {
   "cell_type": "markdown",
   "metadata": {
    "colab_type": "text",
    "id": "tTR_mazo_h-a"
   },
   "source": [
    "Load world data"
   ]
  },
  {
   "cell_type": "code",
   "execution_count": 27,
   "metadata": {
    "colab": {
     "base_uri": "https://localhost:8080/",
     "height": 694
    },
    "colab_type": "code",
    "id": "tlQJiPN2Lt7a",
    "outputId": "a8768c6e-0070-4904-9502-fb50e55aeab8"
   },
   "outputs": [
    {
     "data": {
      "text/html": [
       "<div>\n",
       "<style scoped>\n",
       "    .dataframe tbody tr th:only-of-type {\n",
       "        vertical-align: middle;\n",
       "    }\n",
       "\n",
       "    .dataframe tbody tr th {\n",
       "        vertical-align: top;\n",
       "    }\n",
       "\n",
       "    .dataframe thead th {\n",
       "        text-align: right;\n",
       "    }\n",
       "</style>\n",
       "<table border=\"1\" class=\"dataframe\">\n",
       "  <thead>\n",
       "    <tr style=\"text-align: right;\">\n",
       "      <th></th>\n",
       "      <th>Country</th>\n",
       "      <th>Region</th>\n",
       "      <th>Population</th>\n",
       "      <th>Area (sq. mi.)</th>\n",
       "      <th>Pop. Density (per sq. mi.)</th>\n",
       "      <th>Coastline (coast/area ratio)</th>\n",
       "      <th>Net migration</th>\n",
       "      <th>Infant mortality (per 1000 births)</th>\n",
       "      <th>GDP ($ per capita)</th>\n",
       "      <th>Literacy (%)</th>\n",
       "      <th>Phones (per 1000)</th>\n",
       "      <th>Arable (%)</th>\n",
       "      <th>Crops (%)</th>\n",
       "      <th>Other (%)</th>\n",
       "      <th>Climate</th>\n",
       "      <th>Birthrate</th>\n",
       "      <th>Deathrate</th>\n",
       "      <th>Agriculture</th>\n",
       "      <th>Industry</th>\n",
       "      <th>Service</th>\n",
       "    </tr>\n",
       "  </thead>\n",
       "  <tbody>\n",
       "    <tr>\n",
       "      <th>0</th>\n",
       "      <td>Afghanistan</td>\n",
       "      <td>ASIA (EX. NEAR EAST)</td>\n",
       "      <td>31056997</td>\n",
       "      <td>647500</td>\n",
       "      <td>48,0</td>\n",
       "      <td>0,00</td>\n",
       "      <td>23,06</td>\n",
       "      <td>163,07</td>\n",
       "      <td>700.0</td>\n",
       "      <td>36,0</td>\n",
       "      <td>3,2</td>\n",
       "      <td>12,13</td>\n",
       "      <td>0,22</td>\n",
       "      <td>87,65</td>\n",
       "      <td>1</td>\n",
       "      <td>46,6</td>\n",
       "      <td>20,34</td>\n",
       "      <td>0,38</td>\n",
       "      <td>0,24</td>\n",
       "      <td>0,38</td>\n",
       "    </tr>\n",
       "    <tr>\n",
       "      <th>1</th>\n",
       "      <td>Albania</td>\n",
       "      <td>EASTERN EUROPE</td>\n",
       "      <td>3581655</td>\n",
       "      <td>28748</td>\n",
       "      <td>124,6</td>\n",
       "      <td>1,26</td>\n",
       "      <td>-4,93</td>\n",
       "      <td>21,52</td>\n",
       "      <td>4500.0</td>\n",
       "      <td>86,5</td>\n",
       "      <td>71,2</td>\n",
       "      <td>21,09</td>\n",
       "      <td>4,42</td>\n",
       "      <td>74,49</td>\n",
       "      <td>3</td>\n",
       "      <td>15,11</td>\n",
       "      <td>5,22</td>\n",
       "      <td>0,232</td>\n",
       "      <td>0,188</td>\n",
       "      <td>0,579</td>\n",
       "    </tr>\n",
       "    <tr>\n",
       "      <th>2</th>\n",
       "      <td>Algeria</td>\n",
       "      <td>NORTHERN AFRICA</td>\n",
       "      <td>32930091</td>\n",
       "      <td>2381740</td>\n",
       "      <td>13,8</td>\n",
       "      <td>0,04</td>\n",
       "      <td>-0,39</td>\n",
       "      <td>31</td>\n",
       "      <td>6000.0</td>\n",
       "      <td>70,0</td>\n",
       "      <td>78,1</td>\n",
       "      <td>3,22</td>\n",
       "      <td>0,25</td>\n",
       "      <td>96,53</td>\n",
       "      <td>1</td>\n",
       "      <td>17,14</td>\n",
       "      <td>4,61</td>\n",
       "      <td>0,101</td>\n",
       "      <td>0,6</td>\n",
       "      <td>0,298</td>\n",
       "    </tr>\n",
       "    <tr>\n",
       "      <th>3</th>\n",
       "      <td>American Samoa</td>\n",
       "      <td>OCEANIA</td>\n",
       "      <td>57794</td>\n",
       "      <td>199</td>\n",
       "      <td>290,4</td>\n",
       "      <td>58,29</td>\n",
       "      <td>-20,71</td>\n",
       "      <td>9,27</td>\n",
       "      <td>8000.0</td>\n",
       "      <td>97,0</td>\n",
       "      <td>259,5</td>\n",
       "      <td>10</td>\n",
       "      <td>15</td>\n",
       "      <td>75</td>\n",
       "      <td>2</td>\n",
       "      <td>22,46</td>\n",
       "      <td>3,27</td>\n",
       "      <td>NaN</td>\n",
       "      <td>NaN</td>\n",
       "      <td>NaN</td>\n",
       "    </tr>\n",
       "    <tr>\n",
       "      <th>4</th>\n",
       "      <td>Andorra</td>\n",
       "      <td>WESTERN EUROPE</td>\n",
       "      <td>71201</td>\n",
       "      <td>468</td>\n",
       "      <td>152,1</td>\n",
       "      <td>0,00</td>\n",
       "      <td>6,6</td>\n",
       "      <td>4,05</td>\n",
       "      <td>19000.0</td>\n",
       "      <td>100,0</td>\n",
       "      <td>497,2</td>\n",
       "      <td>2,22</td>\n",
       "      <td>0</td>\n",
       "      <td>97,78</td>\n",
       "      <td>3</td>\n",
       "      <td>8,71</td>\n",
       "      <td>6,25</td>\n",
       "      <td>NaN</td>\n",
       "      <td>NaN</td>\n",
       "      <td>NaN</td>\n",
       "    </tr>\n",
       "  </tbody>\n",
       "</table>\n",
       "</div>"
      ],
      "text/plain": [
       "          Country                               Region  Population  \\\n",
       "0     Afghanistan        ASIA (EX. NEAR EAST)             31056997   \n",
       "1         Albania  EASTERN EUROPE                          3581655   \n",
       "2         Algeria  NORTHERN AFRICA                        32930091   \n",
       "3  American Samoa  OCEANIA                                   57794   \n",
       "4         Andorra  WESTERN EUROPE                            71201   \n",
       "\n",
       "   Area (sq. mi.) Pop. Density (per sq. mi.) Coastline (coast/area ratio)  \\\n",
       "0          647500                       48,0                         0,00   \n",
       "1           28748                      124,6                         1,26   \n",
       "2         2381740                       13,8                         0,04   \n",
       "3             199                      290,4                        58,29   \n",
       "4             468                      152,1                         0,00   \n",
       "\n",
       "  Net migration Infant mortality (per 1000 births)  GDP ($ per capita)  \\\n",
       "0         23,06                             163,07               700.0   \n",
       "1         -4,93                              21,52              4500.0   \n",
       "2         -0,39                                 31              6000.0   \n",
       "3        -20,71                               9,27              8000.0   \n",
       "4           6,6                               4,05             19000.0   \n",
       "\n",
       "  Literacy (%) Phones (per 1000) Arable (%) Crops (%) Other (%) Climate  \\\n",
       "0         36,0               3,2      12,13      0,22     87,65       1   \n",
       "1         86,5              71,2      21,09      4,42     74,49       3   \n",
       "2         70,0              78,1       3,22      0,25     96,53       1   \n",
       "3         97,0             259,5         10        15        75       2   \n",
       "4        100,0             497,2       2,22         0     97,78       3   \n",
       "\n",
       "  Birthrate Deathrate Agriculture Industry Service  \n",
       "0      46,6     20,34        0,38     0,24    0,38  \n",
       "1     15,11      5,22       0,232    0,188   0,579  \n",
       "2     17,14      4,61       0,101      0,6   0,298  \n",
       "3     22,46      3,27         NaN      NaN     NaN  \n",
       "4      8,71      6,25         NaN      NaN     NaN  "
      ]
     },
     "execution_count": 27,
     "metadata": {},
     "output_type": "execute_result"
    }
   ],
   "source": [
    "world_df = pd.read_csv(\"data/countries of the world.csv\")\n",
    "world_df['Country'] = world_df['Country'].str.strip()\n",
    "world_df.head()"
   ]
  },
  {
   "cell_type": "markdown",
   "metadata": {
    "colab_type": "text",
    "id": "tMiI5veW_lzX"
   },
   "source": [
    "Attatch world data to Covid-19 data"
   ]
  },
  {
   "cell_type": "code",
   "execution_count": 28,
   "metadata": {
    "colab": {},
    "colab_type": "code",
    "id": "gUY_b87kL7Bk"
   },
   "outputs": [],
   "source": [
    "df = pd.merge(df, world_df, how ='left', left_on=['Country/Region'], right_on=['Country'])\n",
    "df['Date'] = pd.to_datetime(df['Date'])"
   ]
  },
  {
   "cell_type": "code",
   "execution_count": 29,
   "metadata": {
    "colab": {
     "base_uri": "https://localhost:8080/",
     "height": 561
    },
    "colab_type": "code",
    "id": "ExpRpJL5Mi-T",
    "outputId": "ba0df153-464a-4d8f-ddf6-33bef1921c52"
   },
   "outputs": [
    {
     "data": {
      "text/plain": [
       "US                 15430\n",
       "Mainland China      9263\n",
       "UK                  3318\n",
       "South Korea          299\n",
       "North Macedonia      264\n",
       "Name: Country/Region, dtype: int64"
      ]
     },
     "execution_count": 29,
     "metadata": {},
     "output_type": "execute_result"
    }
   ],
   "source": [
    "df.loc[df['Country'].isnull()]['Country/Region'].value_counts().head()"
   ]
  },
  {
   "cell_type": "code",
   "execution_count": 31,
   "metadata": {
    "colab": {},
    "colab_type": "code",
    "id": "c-MeIdgMMpWF"
   },
   "outputs": [
    {
     "data": {
      "text/plain": [
       "Undefined         33743\n",
       "Russia            14066\n",
       "Japan              8504\n",
       "India              5967\n",
       "Colombia           5873\n",
       "                  ...  \n",
       "Gambia, The           4\n",
       "Bahamas, The          3\n",
       "Cayman Islands        3\n",
       "East Timor            1\n",
       "Cape Verde            1\n",
       "Name: Country, Length: 186, dtype: int64"
      ]
     },
     "execution_count": 31,
     "metadata": {},
     "output_type": "execute_result"
    }
   ],
   "source": [
    "df.loc[df['Country'].isnull(), 'Country'] = 'Undefined'\n",
    "df.loc[df['Region'].isnull(), 'Region'] = 'Others'\n",
    "df['Country'].value_counts()"
   ]
  },
  {
   "cell_type": "code",
   "execution_count": 33,
   "metadata": {
    "colab": {},
    "colab_type": "code",
    "id": "AscNEHQDM0EJ"
   },
   "outputs": [],
   "source": [
    "confirmed_original = df['Confirmed']\n",
    "minmax_transformer = MinMaxScaler(feature_range=(0,1)).fit(np.asarray([0, 2E5]).reshape(-1,1))\n",
    "confirmed_transformed = pd.Series(minmax_transformer.transform(confirmed_original.values.reshape(-1,1)).reshape(-1))\n",
    "df['confirmed_transformed'] = confirmed_transformed\n",
    "\n",
    "encoded_country_region = LabelEncoder().fit(df['Country/Region'])\n",
    "df['encoded_country_region'] = encoded_country_region.transform(df['Country/Region'])\n",
    "encoded_region = LabelEncoder().fit(df['Region'])\n",
    "df['encoded_region'] = encoded_region.transform(df['Region'])"
   ]
  },
  {
   "cell_type": "markdown",
   "metadata": {
    "colab_type": "text",
    "id": "CiSNQOlX_xr_"
   },
   "source": [
    "Split data into train and test set."
   ]
  },
  {
   "cell_type": "code",
   "execution_count": 34,
   "metadata": {
    "colab": {
     "base_uri": "https://localhost:8080/",
     "height": 34
    },
    "colab_type": "code",
    "id": "QZyaFGQyOo1u",
    "outputId": "83be89eb-591c-4d1e-a2d8-d4a14d44aaf7"
   },
   "outputs": [
    {
     "name": "stdout",
     "output_type": "stream",
     "text": [
      "{(138384, 27)}\n"
     ]
    }
   ],
   "source": [
    "train_data = df.loc[df['Confirmed'] > 50].copy()\n",
    "print({train_data.shape})\n",
    "train, test = train_test_split(train_data, test_size=0.2, shuffle=True, random_state=200000)"
   ]
  },
  {
   "cell_type": "markdown",
   "metadata": {
    "colab_type": "text",
    "id": "k9SoNqsj_2af"
   },
   "source": [
    "Fit data into gradient boost model"
   ]
  },
  {
   "cell_type": "code",
   "execution_count": 35,
   "metadata": {
    "colab": {
     "base_uri": "https://localhost:8080/",
     "height": 476
    },
    "colab_type": "code",
    "id": "PPS2XZH1PKxM",
    "outputId": "4861bdd4-8a61-4976-ab57-2bfc2892dca7"
   },
   "outputs": [
    {
     "name": "stdout",
     "output_type": "stream",
     "text": [
      "Training until validation scores don't improve for 100 rounds\n",
      "[10]\tvalid_0's l1: 14816.1\n",
      "[20]\tvalid_0's l1: 5511.61\n",
      "[30]\tvalid_0's l1: 2570.76\n",
      "[40]\tvalid_0's l1: 1747.65\n",
      "[50]\tvalid_0's l1: 1525.82\n",
      "[60]\tvalid_0's l1: 1461.69\n",
      "[70]\tvalid_0's l1: 1444.42\n",
      "[80]\tvalid_0's l1: 1439.81\n",
      "[90]\tvalid_0's l1: 1437.89\n",
      "[100]\tvalid_0's l1: 1436.79\n",
      "[110]\tvalid_0's l1: 1435.99\n",
      "[120]\tvalid_0's l1: 1435.49\n",
      "[130]\tvalid_0's l1: 1435.05\n",
      "[140]\tvalid_0's l1: 1434.83\n",
      "[150]\tvalid_0's l1: 1434.67\n",
      "[160]\tvalid_0's l1: 1434.57\n",
      "[170]\tvalid_0's l1: 1434.5\n",
      "[180]\tvalid_0's l1: 1434.45\n",
      "[190]\tvalid_0's l1: 1434.43\n",
      "[200]\tvalid_0's l1: 1434.41\n",
      "Did not meet early stopping. Best iteration is:\n",
      "[200]\tvalid_0's l1: 1434.41\n"
     ]
    },
    {
     "data": {
      "text/plain": [
       "LGBMRegressor(metric='mae', min_child_samples=5, n_estimators=200)"
      ]
     },
     "execution_count": 35,
     "metadata": {},
     "output_type": "execute_result"
    }
   ],
   "source": [
    "   \n",
    "model = LGBMRegressor(n_estimators=200, metric='mae', min_child_samples=5, min_child_weight=0.001)\n",
    "\n",
    "confirmed1 = ['Confirmed']\n",
    "confirmed2 = ['confirmed_transformed']\n",
    "\n",
    "model.fit(X=train[confirmed1+confirmed2], y=train['Confirmed'], \n",
    "               eval_set=(test[confirmed1+confirmed2], test['Confirmed']),\n",
    "               early_stopping_rounds=100, verbose=10)"
   ]
  },
  {
   "cell_type": "markdown",
   "metadata": {
    "colab_type": "text",
    "id": "hIb7SGtu_8ja"
   },
   "source": [
    "Predict confirmed cases for tomorrow"
   ]
  },
  {
   "cell_type": "code",
   "execution_count": 36,
   "metadata": {
    "colab": {
     "base_uri": "https://localhost:8080/",
     "height": 34
    },
    "colab_type": "code",
    "id": "3eE3sR9VPWwZ",
    "outputId": "d58cb957-e6eb-4e99-9bb1-db269a87a5a9"
   },
   "outputs": [
    {
     "name": "stdout",
     "output_type": "stream",
     "text": [
      "Total Confimred cases tomorrow in US - 98632.5598635329\n"
     ]
    }
   ],
   "source": [
    "us_data = df.loc[(df['Confirmed'] > 0) & (df['Country/Region']=='US')]\n",
    "today_data = us_data.iloc[-1]\n",
    "\n",
    "confimed = today_data[confirmed1].values\n",
    "transformed = today_data[confirmed2].values\n",
    "confirmed_today = today_data['Confirmed']\n",
    "tomorrow_confirmed = model.predict(np.hstack([confimed, transformed]).reshape(1,-1))[0]\n",
    "print(f'Total Confimred cases tomorrow in US - {tomorrow_confirmed}')"
   ]
  },
  {
   "cell_type": "code",
   "execution_count": null,
   "metadata": {},
   "outputs": [],
   "source": []
  },
  {
   "cell_type": "code",
   "execution_count": null,
   "metadata": {},
   "outputs": [],
   "source": []
  }
 ],
 "metadata": {
  "colab": {
   "name": "GradientBoost.ipynb",
   "provenance": []
  },
  "kernelspec": {
   "display_name": "Python 3",
   "language": "python",
   "name": "python3"
  },
  "language_info": {
   "codemirror_mode": {
    "name": "ipython",
    "version": 3
   },
   "file_extension": ".py",
   "mimetype": "text/x-python",
   "name": "python",
   "nbconvert_exporter": "python",
   "pygments_lexer": "ipython3",
   "version": "3.8.3"
  }
 },
 "nbformat": 4,
 "nbformat_minor": 1
}
